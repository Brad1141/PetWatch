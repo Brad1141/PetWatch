{
 "cells": [
  {
   "cell_type": "code",
   "execution_count": null,
   "metadata": {},
   "outputs": [],
   "source": [
    "from keras.layers import Input, Dense, Dropout, Embedding, LSTM, dot, Activation, add, concatenate\n",
    "from keras.models import Model"
   ]
  },
  {
   "cell_type": "code",
   "execution_count": null,
   "metadata": {},
   "outputs": [],
   "source": [
    "# basic schema for LSTM model with attention (still testing)\n",
    "\n",
    "# define the image encoder\n",
    "ip1 = Input(shape = (2048, ))\n",
    "fe1 = Dropout(0.2)(ip1)\n",
    "fe2 = Dense(256, activation = 'relu')(fe1)\n",
    "\n",
    "# define the caption encoder\n",
    "ip2 = Input(shape = (max_length, ))\n",
    "se1 = Embedding(vocab_size, emb_dim, mask_zero = True)(ip2)\n",
    "se2 = Dropout(0.2)(se1)\n",
    "se3, state_h, state_c = LSTM(256, return_state = True)(se2)\n",
    "\n",
    "# calculate attention\n",
    "attention = dot([fe2, state_h], axes = (1,1))\n",
    "attention = Activation('softmax')(attention)\n",
    "context = dot([attention, state_h], axes = (1,1))\n",
    "\n",
    "# concatenate the context with the caption encoding\n",
    "decoder1 = concatenate([context, se3])\n",
    "\n",
    "# process the concatenated vector through another dense layer\n",
    "decoder2 = Dense(256, activation = 'relu')(decoder1)\n",
    "\n",
    "# generate the output\n",
    "outputs = Dense(vocab_size, activation = 'softmax')(decoder2)\n",
    "\n",
    "# define the full model\n",
    "model = Model(inputs = [ip1, ip2], outputs = outputs)\n"
   ]
  }
 ],
 "metadata": {
  "kernelspec": {
   "display_name": "Python 3",
   "language": "python",
   "name": "python3"
  },
  "language_info": {
   "codemirror_mode": {
    "name": "ipython",
    "version": 3
   },
   "file_extension": ".py",
   "mimetype": "text/x-python",
   "name": "python",
   "nbconvert_exporter": "python",
   "pygments_lexer": "ipython3",
   "version": "3.8.10 (tags/v3.8.10:3d8993a, May  3 2021, 11:48:03) [MSC v.1928 64 bit (AMD64)]"
  },
  "orig_nbformat": 4,
  "vscode": {
   "interpreter": {
    "hash": "faa2fac6ff85f643fad080676a73334f6d2a035cd520b8ffec70f2014eef7619"
   }
  }
 },
 "nbformat": 4,
 "nbformat_minor": 2
}
