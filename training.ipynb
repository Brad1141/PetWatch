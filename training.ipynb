{
 "cells": [
  {
   "cell_type": "code",
   "execution_count": 1,
   "metadata": {},
   "outputs": [
    {
     "name": "stdout",
     "output_type": "stream",
     "text": [
      "Hello world\n"
     ]
    }
   ],
   "source": [
    "print(\"Hello world\")"
   ]
  },
  {
   "cell_type": "code",
   "execution_count": 3,
   "metadata": {},
   "outputs": [],
   "source": [
    "# downloading csv data from azure\n",
    "import os\n",
    "from azure.storage.blob import BlobServiceClient, BlobClient, ContainerClient\n",
    "\n",
    "# Get the connection string from environment variables\n",
    "connect_str = os.getenv('AZURE_STORAGE_CONNECTION_STRING')\n",
    "\n",
    "# Create a BlobServiceClient using the connection string\n",
    "blob_service_client = BlobServiceClient.from_connection_string(connect_str)\n",
    "\n",
    "# Get the container client\n",
    "container_client = blob_service_client.get_container_client(\"petwatch\")\n",
    "\n",
    "# Get the blob client\n",
    "blob_client = container_client.get_blob_client(\"TestFile.csv\")"
   ]
  },
  {
   "cell_type": "code",
   "execution_count": 4,
   "metadata": {},
   "outputs": [],
   "source": [
    "# Download the content of the blob\n",
    "blob_content = blob_client.download_blob().readall()\n",
    "\n",
    "# Write the content to a local .csv file\n",
    "with open(\"local_file.csv\", \"wb\") as f:\n",
    "    f.write(blob_content)"
   ]
  },
  {
   "cell_type": "code",
   "execution_count": null,
   "metadata": {},
   "outputs": [],
   "source": []
  }
 ],
 "metadata": {
  "kernelspec": {
   "display_name": "Python 3",
   "language": "python",
   "name": "python3"
  },
  "language_info": {
   "codemirror_mode": {
    "name": "ipython",
    "version": 3
   },
   "file_extension": ".py",
   "mimetype": "text/x-python",
   "name": "python",
   "nbconvert_exporter": "python",
   "pygments_lexer": "ipython3",
   "version": "3.8.10"
  },
  "orig_nbformat": 4,
  "vscode": {
   "interpreter": {
    "hash": "faa2fac6ff85f643fad080676a73334f6d2a035cd520b8ffec70f2014eef7619"
   }
  }
 },
 "nbformat": 4,
 "nbformat_minor": 2
}
